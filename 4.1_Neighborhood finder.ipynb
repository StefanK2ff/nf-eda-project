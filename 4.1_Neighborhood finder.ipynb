{
 "cells": [
  {
   "cell_type": "code",
   "execution_count": null,
   "metadata": {},
   "outputs": [],
   "source": [
    "load_dotenv()\n",
    "\n",
    "G_API = os.getenv('G_API')\n",
    "\n",
    "import requests\n",
    "import json\n",
    "import pprint\n",
    "\n",
    "def get_neighborhood_name(latitude, longitude):\n",
    "    api_key = G_API\n",
    "    url = \"https://maps.googleapis.com/maps/api/geocode/json?latlng={},{}&key={}\".format(latitude, longitude, api_key)\n",
    "    response = requests.get(url)\n",
    "    if response.status_code == 200:\n",
    "        answer = json.loads(response.content)\n",
    "        pprint.pprint(answer)\n",
    "        neighborhood = answer[\"results\"][0][\"address_components\"][2][\"long_name\"]\n",
    "        return neighborhood\n",
    "    else:\n",
    "        return None\n",
    "\n",
    "neighborhood = get_neighborhood_name(47.606209, -122.332069)\n",
    "print(neighborhood)\n"
   ]
  }
 ],
 "metadata": {
  "language_info": {
   "name": "python"
  },
  "orig_nbformat": 4
 },
 "nbformat": 4,
 "nbformat_minor": 2
}
