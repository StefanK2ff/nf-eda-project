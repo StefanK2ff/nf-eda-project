{
 "cells": [
  {
   "cell_type": "markdown",
   "metadata": {},
   "source": [
    "# 2 - Further data exploration"
   ]
  },
  {
   "cell_type": "code",
   "execution_count": 2,
   "metadata": {},
   "outputs": [],
   "source": [
    "# Importing packages\n",
    "\n",
    "import warnings\n",
    "\n",
    "warnings.filterwarnings(\"ignore\")\n",
    "\n",
    "import pandas as pd\n",
    "import numpy as np\n",
    "import matplotlib.pyplot as plt\n",
    "\n",
    "\n",
    "# Configuring matplotlib and pandas for plotting\n",
    "from matplotlib.ticker import PercentFormatter\n",
    "plt.rcParams.update({ \"figure.figsize\" : (8, 5),\"axes.facecolor\" : \"white\", \"axes.edgecolor\":  \"black\"})\n",
    "plt.rcParams[\"figure.facecolor\"]= \"w\"\n",
    "pd.plotting.register_matplotlib_converters()\n",
    "pd.set_option('display.float_format', lambda x: '%.3f' % x)"
   ]
  },
  {
   "cell_type": "code",
   "execution_count": 3,
   "metadata": {},
   "outputs": [],
   "source": [
    "# Import csv into dataframe\n",
    "df = pd.read_csv('data/eda.csv', delimiter=\",\")"
   ]
  },
  {
   "cell_type": "markdown",
   "metadata": {},
   "source": [
    "## Univariate Analysis - checking selected attributes"
   ]
  },
  {
   "cell_type": "markdown",
   "metadata": {},
   "source": [
    "### Price Analysis"
   ]
  },
  {
   "cell_type": "markdown",
   "metadata": {},
   "source": [
    "#### Central Tendency: mean, median, mode, quantiles\n",
    "\n",
    "* Assuming that the value of an object is shown by the transaction connected to it.\n",
    "* If a house has multiple transaction the object's value is defined as the average of all transactions connected to this house."
   ]
  },
  {
   "cell_type": "code",
   "execution_count": 4,
   "metadata": {},
   "outputs": [
    {
     "name": "stdout",
     "output_type": "stream",
     "text": [
      "count     21597.000\n",
      "mean     540296.574\n",
      "std      367368.140\n",
      "min       78000.000\n",
      "25%      322000.000\n",
      "50%      450000.000\n",
      "75%      645000.000\n",
      "max     7700000.000\n",
      "Name: price, dtype: float64\n",
      "This takes not into account, that there are multiple transaction per house in the data set. Therefore the median over all prices has to be calculated on the mean per house.\n",
      "Number of houses with: 21420\n",
      "The mean of all average house prices is $541,300.18.\n",
      "The median of all average house prices is $450,000.00.\n",
      "The mode of all average house prices is: $450,000.00\n",
      "Price can be considered unimodal. It is considerable that mode and median are the same.\n",
      "Price min $78,000.00 to 1st quartile $324,000.00, median $450,000.00, 3rd quartile $645,000.00 to max $7,700,000.00\n"
     ]
    }
   ],
   "source": [
    "#\n",
    "price_describe = df['price'].describe()\n",
    "\n",
    "print(price_describe)\n",
    "\n",
    "print(\"This takes not into account, that there are multiple transaction per house in the data set. Therefore the median over all prices has to be calculated on the mean per house.\")\n",
    "# Calculate average price per house\n",
    "price_avg_per_house = df.groupby('house_id')['price'].mean()\n",
    "\n",
    "print(f'Number of houses with: {price_avg_per_house.count()}')\n",
    "\n",
    "# This gives the average of all averages house prices\n",
    "price_mean_overall = round(price_avg_per_house.mean(), 2)\n",
    "\n",
    "print(f\"The mean of all average house prices is ${price_mean_overall:,.2f}.\")\n",
    "\n",
    "# This gives the median of all average house prices\n",
    "price_median_overall = round(price_avg_per_house.median(), 2)\n",
    "\n",
    "print(f\"The median of all average house prices is ${price_median_overall:,.2f}.\")\n",
    "\n",
    "# This gives the mode of all average house prices\n",
    "price_mode_overall = price_avg_per_house.mode()\n",
    "\n",
    "for elem in price_mode_overall:\n",
    "    print(f\"The mode of all average house prices is: ${elem:,.2f}\")\n",
    "print('Price can be considered unimodal. It is considerable that mode and median are the same.')\n",
    "\n",
    "# Calculating 1st and 3rd quartiles\n",
    "price_q1 = price_avg_per_house.quantile(0.25)\n",
    "price_q3 = price_avg_per_house.quantile(0.75)\n",
    "\n",
    "# Calculating min and max\n",
    "price_min = price_avg_per_house.min()\n",
    "price_max = price_avg_per_house.max()\n",
    "\n",
    "print(f'Price min ${price_min:,.2f} to 1st quartile ${price_q1:,.2f}, median ${price_median_overall:,.2f}, 3rd quartile ${price_q3:,.2f} to max ${price_max:,.2f}')"
   ]
  },
  {
   "cell_type": "markdown",
   "metadata": {},
   "source": [
    "#### Spread: Range, interquartile range, variance and standard deviation\n"
   ]
  },
  {
   "cell_type": "code",
   "execution_count": 5,
   "metadata": {},
   "outputs": [
    {
     "name": "stdout",
     "output_type": "stream",
     "text": [
      " range: 7622000.0 \n",
      " iqr: 321000.0\n",
      " variance: 135177276869.2757\n",
      " std derivation: 367664.6255342982\n"
     ]
    }
   ],
   "source": [
    "price_range = price_avg_per_house.max() - price_avg_per_house.min()\n",
    "price_iqr = price_avg_per_house.quantile(0.75) - price_avg_per_house.quantile(0.25)\n",
    "price_variance = price_avg_per_house.var()\n",
    "price_std = price_avg_per_house.std()\n",
    "\n",
    "print(f\" range: {price_range} \\n iqr: {price_iqr}\\n variance: {price_variance}\\n std derivation: {price_std}\")"
   ]
  },
  {
   "cell_type": "markdown",
   "metadata": {},
   "source": [
    "#### Shape\n",
    "\n",
    "Positive skewness indicates a longer tail on the right side of the distribution, while negative skewness indicates a longer tail on the left side.\n",
    "\n",
    "Positive kurtosis indicates a distribution with heavier tails and a sharper peak, while negative kurtosis indicates a distribution with lighter tails and a flatter peak."
   ]
  },
  {
   "cell_type": "code",
   "execution_count": 6,
   "metadata": {},
   "outputs": [
    {
     "name": "stdout",
     "output_type": "stream",
     "text": [
      "Skewness: 4.034506305333779\n",
      "Kurtosis: 34.659291913661484\n"
     ]
    }
   ],
   "source": [
    "# Calculate skewness and kurtosis\n",
    "skewness = price_avg_per_house.skew()\n",
    "kurt = price_avg_per_house.kurtosis()\n",
    "\n",
    "# Print the results\n",
    "print(f\"Skewness: {skewness}\")\n",
    "print(f\"Kurtosis: {kurt}\")"
   ]
  },
  {
   "cell_type": "markdown",
   "metadata": {},
   "source": [
    "#### Outliers, missing values"
   ]
  },
  {
   "cell_type": "code",
   "execution_count": 7,
   "metadata": {},
   "outputs": [
    {
     "name": "stdout",
     "output_type": "stream",
     "text": [
      "Outliers:\n",
      "# of upper outliers: 1158\n",
      "# of lower outliers: 0\n"
     ]
    }
   ],
   "source": [
    "# Define upper and lower bounds for outliers\n",
    "lower_b = price_q1 - 1.5 * price_iqr\n",
    "upper_b = price_q3 + 1.5 * price_iqr\n",
    "\n",
    "# Identify outliers\n",
    "outliers_below = df[(df['price'] < lower_b)]\n",
    "outliers_above = df[(df['price'] > upper_b)]\n",
    "\n",
    "print(\"Outliers:\")\n",
    "print(f\"# of upper outliers: {outliers_above.shape[0]}\")  # Use shape[0] to get the count\n",
    "print(f\"# of lower outliers: {outliers_below.shape[0]}\")  # Use shape[0] to get the count\n"
   ]
  },
  {
   "cell_type": "code",
   "execution_count": 8,
   "metadata": {},
   "outputs": [
    {
     "name": "stdout",
     "output_type": "stream",
     "text": [
      "Missing values:\n",
      "0\n"
     ]
    }
   ],
   "source": [
    "# Check for missing price values in the entire DataFrame\n",
    "missing_values = df['price'].isnull().sum()\n",
    "\n",
    "# Print the count of missing values for price column\n",
    "print(\"Missing values:\")\n",
    "print(missing_values)\n"
   ]
  },
  {
   "cell_type": "markdown",
   "metadata": {},
   "source": [
    "### Size; living and lot"
   ]
  },
  {
   "cell_type": "markdown",
   "metadata": {},
   "source": [
    "#### Central Tendency / Overview by .describe()"
   ]
  },
  {
   "cell_type": "code",
   "execution_count": 9,
   "metadata": {},
   "outputs": [
    {
     "data": {
      "text/html": [
       "<div>\n",
       "<style scoped>\n",
       "    .dataframe tbody tr th:only-of-type {\n",
       "        vertical-align: middle;\n",
       "    }\n",
       "\n",
       "    .dataframe tbody tr th {\n",
       "        vertical-align: top;\n",
       "    }\n",
       "\n",
       "    .dataframe thead th {\n",
       "        text-align: right;\n",
       "    }\n",
       "</style>\n",
       "<table border=\"1\" class=\"dataframe\">\n",
       "  <thead>\n",
       "    <tr style=\"text-align: right;\">\n",
       "      <th></th>\n",
       "      <th>sqft_lot</th>\n",
       "      <th>sqft_living</th>\n",
       "    </tr>\n",
       "  </thead>\n",
       "  <tbody>\n",
       "    <tr>\n",
       "      <th>count</th>\n",
       "      <td>21420.000</td>\n",
       "      <td>21420.000</td>\n",
       "    </tr>\n",
       "    <tr>\n",
       "      <th>mean</th>\n",
       "      <td>15128.038</td>\n",
       "      <td>2083.133</td>\n",
       "    </tr>\n",
       "    <tr>\n",
       "      <th>std</th>\n",
       "      <td>41530.797</td>\n",
       "      <td>918.808</td>\n",
       "    </tr>\n",
       "    <tr>\n",
       "      <th>min</th>\n",
       "      <td>520.000</td>\n",
       "      <td>370.000</td>\n",
       "    </tr>\n",
       "    <tr>\n",
       "      <th>25%</th>\n",
       "      <td>5040.000</td>\n",
       "      <td>1430.000</td>\n",
       "    </tr>\n",
       "    <tr>\n",
       "      <th>50%</th>\n",
       "      <td>7614.000</td>\n",
       "      <td>1920.000</td>\n",
       "    </tr>\n",
       "    <tr>\n",
       "      <th>75%</th>\n",
       "      <td>10690.500</td>\n",
       "      <td>2550.000</td>\n",
       "    </tr>\n",
       "    <tr>\n",
       "      <th>max</th>\n",
       "      <td>1651359.000</td>\n",
       "      <td>13540.000</td>\n",
       "    </tr>\n",
       "  </tbody>\n",
       "</table>\n",
       "</div>"
      ],
      "text/plain": [
       "         sqft_lot  sqft_living\n",
       "count   21420.000    21420.000\n",
       "mean    15128.038     2083.133\n",
       "std     41530.797      918.808\n",
       "min       520.000      370.000\n",
       "25%      5040.000     1430.000\n",
       "50%      7614.000     1920.000\n",
       "75%     10690.500     2550.000\n",
       "max   1651359.000    13540.000"
      ]
     },
     "metadata": {},
     "output_type": "display_data"
    }
   ],
   "source": [
    "df_sizes = df.groupby('house_id').agg({'sqft_lot': 'mean', 'sqft_living': 'mean'})\n",
    "\n",
    "display(\n",
    "    df_sizes.describe()\n",
    ")\n"
   ]
  },
  {
   "cell_type": "markdown",
   "metadata": {},
   "source": [
    "#### Spread: Range, interquartile range, variance and standard deviation\n"
   ]
  },
  {
   "cell_type": "code",
   "execution_count": 10,
   "metadata": {},
   "outputs": [
    {
     "name": "stdout",
     "output_type": "stream",
     "text": [
      " range: 13170.0 \n",
      " iqr: 1120.0\n",
      " variance: 844208.8971562396\n",
      " std derivation: 918.8084115615396\n"
     ]
    }
   ],
   "source": [
    "sqft_living_range = df_sizes['sqft_living'].max() - df_sizes['sqft_living'].min()\n",
    "sqft_living_iqr = df_sizes['sqft_living'].quantile(0.75) - df_sizes['sqft_living'].quantile(0.25)\n",
    "sqft_living_variance = df_sizes['sqft_living'].var()\n",
    "sqft_living_std = df_sizes['sqft_living'].std()\n",
    "\n",
    "print(f\" range: {sqft_living_range} \\n iqr: {sqft_living_iqr}\\n variance: {sqft_living_variance}\\n std derivation: {sqft_living_std}\")"
   ]
  },
  {
   "cell_type": "code",
   "execution_count": 11,
   "metadata": {},
   "outputs": [
    {
     "name": "stdout",
     "output_type": "stream",
     "text": [
      " range: 1650839.0 \n",
      " iqr: 5650.5\n",
      " variance: 1724807085.9732513\n",
      " std derivation: 41530.79683768722\n"
     ]
    }
   ],
   "source": [
    "sqft_lot_range = df_sizes['sqft_lot'].max() - df_sizes['sqft_lot'].min()\n",
    "sqft_lot_iqr = df_sizes['sqft_lot'].quantile(0.75) - df_sizes['sqft_lot'].quantile(0.25)\n",
    "sqft_lot_variance = df_sizes['sqft_lot'].var()\n",
    "sqft_lot_std = df_sizes['sqft_lot'].std()\n",
    "\n",
    "print(f\" range: {sqft_lot_range} \\n iqr: {sqft_lot_iqr}\\n variance: {sqft_lot_variance}\\n std derivation: {sqft_lot_std}\")"
   ]
  },
  {
   "cell_type": "markdown",
   "metadata": {},
   "source": [
    "#### Shape\n",
    "\n",
    "Positive skewness indicates a longer tail on the right side of the distribution, while negative skewness indicates a longer tail on the left side.\n",
    "\n",
    "Positive kurtosis indicates a distribution with heavier tails and a sharper peak, while negative kurtosis indicates a distribution with lighter tails and a flatter peak."
   ]
  },
  {
   "cell_type": "code",
   "execution_count": 12,
   "metadata": {},
   "outputs": [
    {
     "name": "stdout",
     "output_type": "stream",
     "text": [
      "Skewness: 13.056251852883623\n",
      "Kurtosis: 284.49987477810896\n"
     ]
    }
   ],
   "source": [
    "# Calculate skewness and kurtosis for sqft lot\n",
    "skewness = df_sizes['sqft_lot'].skew()\n",
    "kurt = df_sizes['sqft_lot'].kurtosis()\n",
    "\n",
    "# Print the results\n",
    "print(f\"Skewness: {skewness}\")\n",
    "print(f\"Kurtosis: {kurt}\")"
   ]
  },
  {
   "cell_type": "code",
   "execution_count": 13,
   "metadata": {},
   "outputs": [
    {
     "name": "stdout",
     "output_type": "stream",
     "text": [
      "Skewness: 1.4727019951483347\n",
      "Kurtosis: 5.258187001259873\n"
     ]
    }
   ],
   "source": [
    "# Calculate skewness and kurtosis for sqft living\n",
    "skewness = df_sizes['sqft_living'].skew()\n",
    "kurt = df_sizes['sqft_living'].kurtosis()\n",
    "\n",
    "# Print the results\n",
    "print(f\"Skewness: {skewness}\")\n",
    "print(f\"Kurtosis: {kurt}\")"
   ]
  },
  {
   "cell_type": "markdown",
   "metadata": {},
   "source": [
    "#### Outliers, missing values"
   ]
  },
  {
   "cell_type": "code",
   "execution_count": 14,
   "metadata": {},
   "outputs": [
    {
     "name": "stdout",
     "output_type": "stream",
     "text": [
      "Outliers:\n",
      "# of upper outliers: 571\n",
      "# of lower outliers: 0\n"
     ]
    }
   ],
   "source": [
    "# Define upper and lower bounds for outliers\n",
    "lower_b = df_sizes['sqft_living'].quantile(0.25) - 1.5 * sqft_living_iqr\n",
    "upper_b = df_sizes['sqft_living'].quantile(0.75) + 1.5 * sqft_living_iqr\n",
    "\n",
    "# Identify outliers\n",
    "outliers_below = df[(df['sqft_living'] < lower_b)]\n",
    "outliers_above = df[(df['sqft_living'] > upper_b)]\n",
    "\n",
    "print(\"Outliers:\")\n",
    "print(f\"# of upper outliers: {outliers_above.shape[0]}\")  # Use shape[0] to get the count\n",
    "print(f\"# of lower outliers: {outliers_below.shape[0]}\")  # Use shape[0] to get the count\n"
   ]
  },
  {
   "cell_type": "code",
   "execution_count": 15,
   "metadata": {},
   "outputs": [
    {
     "name": "stdout",
     "output_type": "stream",
     "text": [
      "Missing values:\n",
      "0\n"
     ]
    }
   ],
   "source": [
    "# Check for missing price values in the entire DataFrame\n",
    "missing_values = df['sqft_living'].isnull().sum()\n",
    "\n",
    "# Print the count of missing values for price column\n",
    "print(\"Missing values:\")\n",
    "print(missing_values)\n"
   ]
  },
  {
   "cell_type": "code",
   "execution_count": 16,
   "metadata": {},
   "outputs": [
    {
     "name": "stdout",
     "output_type": "stream",
     "text": [
      "Missing values:\n",
      "0\n"
     ]
    }
   ],
   "source": [
    "# Check for missing price values in the entire DataFrame\n",
    "missing_values = df['sqft_lot'].isnull().sum()\n",
    "\n",
    "# Print the count of missing values for price column\n",
    "print(\"Missing values:\")\n",
    "print(missing_values)\n"
   ]
  },
  {
   "cell_type": "markdown",
   "metadata": {},
   "source": [
    "### yr_built / Age\n",
    " 13  yr_renovated"
   ]
  },
  {
   "cell_type": "markdown",
   "metadata": {},
   "source": [
    "#### Central Tendency / Overview by .describe()"
   ]
  },
  {
   "cell_type": "code",
   "execution_count": 17,
   "metadata": {},
   "outputs": [
    {
     "data": {
      "text/html": [
       "<div>\n",
       "<style scoped>\n",
       "    .dataframe tbody tr th:only-of-type {\n",
       "        vertical-align: middle;\n",
       "    }\n",
       "\n",
       "    .dataframe tbody tr th {\n",
       "        vertical-align: top;\n",
       "    }\n",
       "\n",
       "    .dataframe thead th {\n",
       "        text-align: right;\n",
       "    }\n",
       "</style>\n",
       "<table border=\"1\" class=\"dataframe\">\n",
       "  <thead>\n",
       "    <tr style=\"text-align: right;\">\n",
       "      <th></th>\n",
       "      <th>yr_built</th>\n",
       "      <th>age</th>\n",
       "    </tr>\n",
       "  </thead>\n",
       "  <tbody>\n",
       "    <tr>\n",
       "      <th>count</th>\n",
       "      <td>21420.000</td>\n",
       "      <td>21420.000</td>\n",
       "    </tr>\n",
       "    <tr>\n",
       "      <th>mean</th>\n",
       "      <td>1971.093</td>\n",
       "      <td>43.907</td>\n",
       "    </tr>\n",
       "    <tr>\n",
       "      <th>std</th>\n",
       "      <td>29.387</td>\n",
       "      <td>29.387</td>\n",
       "    </tr>\n",
       "    <tr>\n",
       "      <th>min</th>\n",
       "      <td>1900.000</td>\n",
       "      <td>0.000</td>\n",
       "    </tr>\n",
       "    <tr>\n",
       "      <th>25%</th>\n",
       "      <td>1952.000</td>\n",
       "      <td>18.000</td>\n",
       "    </tr>\n",
       "    <tr>\n",
       "      <th>50%</th>\n",
       "      <td>1975.000</td>\n",
       "      <td>40.000</td>\n",
       "    </tr>\n",
       "    <tr>\n",
       "      <th>75%</th>\n",
       "      <td>1997.000</td>\n",
       "      <td>63.000</td>\n",
       "    </tr>\n",
       "    <tr>\n",
       "      <th>max</th>\n",
       "      <td>2015.000</td>\n",
       "      <td>115.000</td>\n",
       "    </tr>\n",
       "  </tbody>\n",
       "</table>\n",
       "</div>"
      ],
      "text/plain": [
       "       yr_built       age\n",
       "count 21420.000 21420.000\n",
       "mean   1971.093    43.907\n",
       "std      29.387    29.387\n",
       "min    1900.000     0.000\n",
       "25%    1952.000    18.000\n",
       "50%    1975.000    40.000\n",
       "75%    1997.000    63.000\n",
       "max    2015.000   115.000"
      ]
     },
     "metadata": {},
     "output_type": "display_data"
    }
   ],
   "source": [
    "df_age = df.groupby('house_id').agg({'yr_built': 'mean'})\n",
    "df_age['age'] = df_age['yr_built'].apply(lambda x: 2015 - x)\n",
    "\n",
    "display(\n",
    "    df_age.describe()\n",
    ")\n"
   ]
  },
  {
   "cell_type": "markdown",
   "metadata": {},
   "source": [
    "#### Spread: Range, iqr, variance, std"
   ]
  },
  {
   "cell_type": "code",
   "execution_count": 18,
   "metadata": {},
   "outputs": [
    {
     "name": "stdout",
     "output_type": "stream",
     "text": [
      " range: 115.0 \n",
      " iqr: 45.0\n",
      " variance: 863.6040314477722\n",
      " std derivation: 29.38714057964422\n"
     ]
    }
   ],
   "source": [
    "age_range = df_age['age'].max() - df_age['age'].min()\n",
    "age_iqr = df_age['age'].quantile(0.75) - df_age['age'].quantile(0.25)\n",
    "age_variance = df_age['age'].var()\n",
    "age_std = df_age['age'].std()\n",
    "\n",
    "print(f\" range: {age_range} \\n iqr: {age_iqr}\\n variance: {age_variance}\\n std derivation: {age_std}\")"
   ]
  },
  {
   "cell_type": "markdown",
   "metadata": {},
   "source": [
    "#### Shape"
   ]
  },
  {
   "cell_type": "code",
   "execution_count": 19,
   "metadata": {},
   "outputs": [
    {
     "name": "stdout",
     "output_type": "stream",
     "text": [
      "Skewness: 0.4742219932841571\n",
      "Kurtosis: -0.6546393404166202\n"
     ]
    }
   ],
   "source": [
    "# Calculate skewness and kurtosis\n",
    "skewness = df_age['age'].skew()\n",
    "kurt = df_age['age'].kurtosis()\n",
    "\n",
    "# Print the results\n",
    "print(f\"Skewness: {skewness}\")\n",
    "print(f\"Kurtosis: {kurt}\")"
   ]
  },
  {
   "cell_type": "markdown",
   "metadata": {},
   "source": [
    "#### Outliers, missing values"
   ]
  },
  {
   "cell_type": "code",
   "execution_count": 20,
   "metadata": {},
   "outputs": [
    {
     "name": "stdout",
     "output_type": "stream",
     "text": [
      "Outliers:\n",
      "# of upper outliers: 0\n",
      "# of lower outliers: 0\n"
     ]
    }
   ],
   "source": [
    "# Define upper and lower bounds for outliers\n",
    "lower_b = df_age['age'].quantile(0.25) - 1.5 * age_iqr\n",
    "upper_b = df_age['age'].quantile(0.75) + 1.5 * age_iqr\n",
    "\n",
    "# Identify outliers\n",
    "outliers_below = df_age[(df_age['age'] < lower_b)]\n",
    "outliers_above = df_age[(df_age['age'] > upper_b)]\n",
    "\n",
    "print(\"Outliers:\")\n",
    "print(f\"# of upper outliers: {outliers_above.shape[0]}\")  # Use shape[0] to get the count\n",
    "print(f\"# of lower outliers: {outliers_below.shape[0]}\")  # Use shape[0] to get the count\n"
   ]
  },
  {
   "cell_type": "code",
   "execution_count": 21,
   "metadata": {},
   "outputs": [
    {
     "name": "stdout",
     "output_type": "stream",
     "text": [
      "Missing values:\n",
      "0\n"
     ]
    }
   ],
   "source": [
    "# Check for missing price values in the entire DataFrame\n",
    "missing_values = df['yr_built'].isnull().sum()\n",
    "\n",
    "# Print the count of missing values for price column\n",
    "print(\"Missing values:\")\n",
    "print(missing_values)\n"
   ]
  },
  {
   "cell_type": "markdown",
   "metadata": {},
   "source": [
    "### yr_renovated / renovation age [Stopped bc. corrupt data]"
   ]
  },
  {
   "cell_type": "markdown",
   "metadata": {},
   "source": [
    "#### Central Tendency / Overview by .describe"
   ]
  },
  {
   "cell_type": "code",
   "execution_count": 22,
   "metadata": {},
   "outputs": [
    {
     "name": "stdout",
     "output_type": "stream",
     "text": [
      "[    0. 20130.    nan 19730. 20100. 19910. 19790. 20010. 20120. 19860.\n",
      " 19900. 20030. 19620. 19920. 20060. 19400. 19550. 20070. 20140. 19890.\n",
      " 19820. 20050. 20000. 19540. 19960. 20150. 19830. 19600. 19720. 19970.\n",
      " 19940. 19450. 20040. 19700. 19950. 19990. 20080. 19840. 20110. 19980.\n",
      " 19880. 20090. 19670. 19690. 20020. 19770. 19870. 19650. 19640. 19580.\n",
      " 19680. 19850. 19630. 19800. 19740. 19810. 19500. 19560. 19570. 19930.\n",
      " 19750. 19460. 19480. 19780. 19760. 19340. 19590. 19530. 19440. 19510.\n",
      " 19710.]\n"
     ]
    },
    {
     "data": {
      "text/html": [
       "<div>\n",
       "<style scoped>\n",
       "    .dataframe tbody tr th:only-of-type {\n",
       "        vertical-align: middle;\n",
       "    }\n",
       "\n",
       "    .dataframe tbody tr th {\n",
       "        vertical-align: top;\n",
       "    }\n",
       "\n",
       "    .dataframe thead th {\n",
       "        text-align: right;\n",
       "    }\n",
       "</style>\n",
       "<table border=\"1\" class=\"dataframe\">\n",
       "  <thead>\n",
       "    <tr style=\"text-align: right;\">\n",
       "      <th></th>\n",
       "      <th>yr_renovated</th>\n",
       "      <th>age</th>\n",
       "    </tr>\n",
       "  </thead>\n",
       "  <tbody>\n",
       "    <tr>\n",
       "      <th>count</th>\n",
       "      <td>17609.000</td>\n",
       "      <td>17609.000</td>\n",
       "    </tr>\n",
       "    <tr>\n",
       "      <th>mean</th>\n",
       "      <td>838.806</td>\n",
       "      <td>1176.194</td>\n",
       "    </tr>\n",
       "    <tr>\n",
       "      <th>std</th>\n",
       "      <td>4005.127</td>\n",
       "      <td>4005.127</td>\n",
       "    </tr>\n",
       "    <tr>\n",
       "      <th>min</th>\n",
       "      <td>0.000</td>\n",
       "      <td>-18135.000</td>\n",
       "    </tr>\n",
       "    <tr>\n",
       "      <th>25%</th>\n",
       "      <td>0.000</td>\n",
       "      <td>2015.000</td>\n",
       "    </tr>\n",
       "    <tr>\n",
       "      <th>50%</th>\n",
       "      <td>0.000</td>\n",
       "      <td>2015.000</td>\n",
       "    </tr>\n",
       "    <tr>\n",
       "      <th>75%</th>\n",
       "      <td>0.000</td>\n",
       "      <td>2015.000</td>\n",
       "    </tr>\n",
       "    <tr>\n",
       "      <th>max</th>\n",
       "      <td>20150.000</td>\n",
       "      <td>2015.000</td>\n",
       "    </tr>\n",
       "  </tbody>\n",
       "</table>\n",
       "</div>"
      ],
      "text/plain": [
       "       yr_renovated        age\n",
       "count     17609.000  17609.000\n",
       "mean        838.806   1176.194\n",
       "std        4005.127   4005.127\n",
       "min           0.000 -18135.000\n",
       "25%           0.000   2015.000\n",
       "50%           0.000   2015.000\n",
       "75%           0.000   2015.000\n",
       "max       20150.000   2015.000"
      ]
     },
     "metadata": {},
     "output_type": "display_data"
    }
   ],
   "source": [
    "print(df['yr_renovated'].unique())\n",
    "\n",
    "\n",
    "df_ren_age = df.groupby('house_id').agg({'yr_renovated': 'mean'})\n",
    "df_ren_age['age'] = df_ren_age['yr_renovated'].apply(lambda x: 2015 - x)\n",
    "\n",
    "display(\n",
    "    df_ren_age.describe()\n",
    ")\n"
   ]
  },
  {
   "cell_type": "markdown",
   "metadata": {},
   "source": [
    "### Condition (Rating)"
   ]
  },
  {
   "cell_type": "markdown",
   "metadata": {},
   "source": [
    "#### Central tendency / Overview per .describe()"
   ]
  },
  {
   "cell_type": "code",
   "execution_count": 23,
   "metadata": {},
   "outputs": [
    {
     "data": {
      "text/html": [
       "<div>\n",
       "<style scoped>\n",
       "    .dataframe tbody tr th:only-of-type {\n",
       "        vertical-align: middle;\n",
       "    }\n",
       "\n",
       "    .dataframe tbody tr th {\n",
       "        vertical-align: top;\n",
       "    }\n",
       "\n",
       "    .dataframe thead th {\n",
       "        text-align: right;\n",
       "    }\n",
       "</style>\n",
       "<table border=\"1\" class=\"dataframe\">\n",
       "  <thead>\n",
       "    <tr style=\"text-align: right;\">\n",
       "      <th></th>\n",
       "      <th>condition</th>\n",
       "    </tr>\n",
       "  </thead>\n",
       "  <tbody>\n",
       "    <tr>\n",
       "      <th>count</th>\n",
       "      <td>21420.000</td>\n",
       "    </tr>\n",
       "    <tr>\n",
       "      <th>mean</th>\n",
       "      <td>3.411</td>\n",
       "    </tr>\n",
       "    <tr>\n",
       "      <th>std</th>\n",
       "      <td>0.650</td>\n",
       "    </tr>\n",
       "    <tr>\n",
       "      <th>min</th>\n",
       "      <td>1.000</td>\n",
       "    </tr>\n",
       "    <tr>\n",
       "      <th>25%</th>\n",
       "      <td>3.000</td>\n",
       "    </tr>\n",
       "    <tr>\n",
       "      <th>50%</th>\n",
       "      <td>3.000</td>\n",
       "    </tr>\n",
       "    <tr>\n",
       "      <th>75%</th>\n",
       "      <td>4.000</td>\n",
       "    </tr>\n",
       "    <tr>\n",
       "      <th>max</th>\n",
       "      <td>5.000</td>\n",
       "    </tr>\n",
       "  </tbody>\n",
       "</table>\n",
       "</div>"
      ],
      "text/plain": [
       "       condition\n",
       "count  21420.000\n",
       "mean       3.411\n",
       "std        0.650\n",
       "min        1.000\n",
       "25%        3.000\n",
       "50%        3.000\n",
       "75%        4.000\n",
       "max        5.000"
      ]
     },
     "metadata": {},
     "output_type": "display_data"
    }
   ],
   "source": [
    "df_condition = df.groupby('house_id').agg({'condition': 'mean'})\n",
    "\n",
    "display(\n",
    "    df_condition.describe()\n",
    ")\n"
   ]
  },
  {
   "cell_type": "markdown",
   "metadata": {},
   "source": [
    "### Grade (Rating) "
   ]
  },
  {
   "cell_type": "markdown",
   "metadata": {},
   "source": [
    "#### Overall tendency / Overview per .describe()"
   ]
  },
  {
   "cell_type": "code",
   "execution_count": 24,
   "metadata": {},
   "outputs": [
    {
     "data": {
      "text/html": [
       "<div>\n",
       "<style scoped>\n",
       "    .dataframe tbody tr th:only-of-type {\n",
       "        vertical-align: middle;\n",
       "    }\n",
       "\n",
       "    .dataframe tbody tr th {\n",
       "        vertical-align: top;\n",
       "    }\n",
       "\n",
       "    .dataframe thead th {\n",
       "        text-align: right;\n",
       "    }\n",
       "</style>\n",
       "<table border=\"1\" class=\"dataframe\">\n",
       "  <thead>\n",
       "    <tr style=\"text-align: right;\">\n",
       "      <th></th>\n",
       "      <th>grade</th>\n",
       "    </tr>\n",
       "  </thead>\n",
       "  <tbody>\n",
       "    <tr>\n",
       "      <th>count</th>\n",
       "      <td>21420.000</td>\n",
       "    </tr>\n",
       "    <tr>\n",
       "      <th>mean</th>\n",
       "      <td>7.663</td>\n",
       "    </tr>\n",
       "    <tr>\n",
       "      <th>std</th>\n",
       "      <td>1.172</td>\n",
       "    </tr>\n",
       "    <tr>\n",
       "      <th>min</th>\n",
       "      <td>3.000</td>\n",
       "    </tr>\n",
       "    <tr>\n",
       "      <th>25%</th>\n",
       "      <td>7.000</td>\n",
       "    </tr>\n",
       "    <tr>\n",
       "      <th>50%</th>\n",
       "      <td>7.000</td>\n",
       "    </tr>\n",
       "    <tr>\n",
       "      <th>75%</th>\n",
       "      <td>8.000</td>\n",
       "    </tr>\n",
       "    <tr>\n",
       "      <th>max</th>\n",
       "      <td>13.000</td>\n",
       "    </tr>\n",
       "  </tbody>\n",
       "</table>\n",
       "</div>"
      ],
      "text/plain": [
       "          grade\n",
       "count 21420.000\n",
       "mean      7.663\n",
       "std       1.172\n",
       "min       3.000\n",
       "25%       7.000\n",
       "50%       7.000\n",
       "75%       8.000\n",
       "max      13.000"
      ]
     },
     "metadata": {},
     "output_type": "display_data"
    }
   ],
   "source": [
    "df_rating = df.groupby('house_id').agg({'grade': 'mean'})\n",
    "\n",
    "display(\n",
    "    df_rating.describe()\n",
    ")\n"
   ]
  },
  {
   "cell_type": "markdown",
   "metadata": {},
   "source": [
    "#### Checking for missing values"
   ]
  },
  {
   "cell_type": "code",
   "execution_count": 25,
   "metadata": {},
   "outputs": [
    {
     "name": "stdout",
     "output_type": "stream",
     "text": [
      "Missing values:\n",
      "0\n"
     ]
    }
   ],
   "source": [
    "# Check for missing price values in the entire DataFrame\n",
    "missing_values = df['grade'].isnull().sum()\n",
    "\n",
    "# Print the count of missing values for price column\n",
    "print(\"Missing values:\")\n",
    "print(missing_values)"
   ]
  },
  {
   "cell_type": "markdown",
   "metadata": {},
   "source": [
    "### Number of Transactions\n"
   ]
  },
  {
   "cell_type": "code",
   "execution_count": 26,
   "metadata": {},
   "outputs": [
    {
     "data": {
      "text/plain": [
       "count   21420.000\n",
       "mean        1.008\n",
       "std         0.091\n",
       "min         1.000\n",
       "25%         1.000\n",
       "50%         1.000\n",
       "75%         1.000\n",
       "max         3.000\n",
       "Name: id.1, dtype: float64"
      ]
     },
     "metadata": {},
     "output_type": "display_data"
    },
    {
     "data": {
      "text/plain": [
       "id.1\n",
       "1    21244\n",
       "2      175\n",
       "3        1\n",
       "Name: id.1, dtype: int64"
      ]
     },
     "metadata": {},
     "output_type": "display_data"
    }
   ],
   "source": [
    "df_num_of_transaction = df.groupby('house_id')['id.1'].count()\n",
    "\n",
    "df_spread_of_transactions = df_num_of_transaction.groupby(df_num_of_transaction).count()\n",
    "\n",
    "display(\n",
    "    df_num_of_transaction.describe(),\n",
    "    df_spread_of_transactions\n",
    ")\n",
    "\n"
   ]
  },
  {
   "cell_type": "markdown",
   "metadata": {},
   "source": [
    "### Objects per Zip Code"
   ]
  },
  {
   "cell_type": "code",
   "execution_count": 27,
   "metadata": {},
   "outputs": [
    {
     "data": {
      "text/plain": [
       "count    70.000\n",
       "mean    308.529\n",
       "std     142.224\n",
       "min      50.000\n",
       "25%     204.250\n",
       "50%     282.500\n",
       "75%     408.250\n",
       "max     602.000\n",
       "Name: house_id, dtype: float64"
      ]
     },
     "metadata": {},
     "output_type": "display_data"
    }
   ],
   "source": [
    "df_houses_per_zip = df.groupby('zipcode')['house_id'].count()\n",
    "\n",
    "display(\n",
    "    df_houses_per_zip.describe()\n",
    "    \n",
    ")"
   ]
  }
 ],
 "metadata": {
  "kernelspec": {
   "display_name": ".venv",
   "language": "python",
   "name": "python3"
  },
  "language_info": {
   "codemirror_mode": {
    "name": "ipython",
    "version": 3
   },
   "file_extension": ".py",
   "mimetype": "text/x-python",
   "name": "python",
   "nbconvert_exporter": "python",
   "pygments_lexer": "ipython3",
   "version": "3.11.3"
  },
  "orig_nbformat": 4
 },
 "nbformat": 4,
 "nbformat_minor": 2
}
